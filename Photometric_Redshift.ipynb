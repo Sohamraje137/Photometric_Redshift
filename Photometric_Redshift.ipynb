{
 "cells": [
  {
   "cell_type": "markdown",
   "metadata": {},
   "source": [
    "Import required libraries and load the dataset"
   ]
  },
  {
   "cell_type": "code",
   "execution_count": 20,
   "metadata": {},
   "outputs": [
    {
     "name": "stdout",
     "output_type": "stream",
     "text": [
      "Dimensions of dataset (50000,)\n"
     ]
    }
   ],
   "source": [
    "import numpy as np\n",
    "import pandas as pd\n",
    "data=np.load('sdss_galaxy_colors.npy')\n",
    "N=len(data)\n",
    "print('Dimensions of dataset',data.shape)"
   ]
  },
  {
   "cell_type": "markdown",
   "metadata": {},
   "source": [
    "Extract required data from the dataset and create the feature matrix X and target vector y"
   ]
  },
  {
   "cell_type": "code",
   "execution_count": 13,
   "metadata": {},
   "outputs": [],
   "source": [
    "# Feature matrix\n",
    "X=np.zeros((N,4))\n",
    "X[: ,0]=data['u']-data['g']\n",
    "X[:, 1] = data['g'] - data['r']\n",
    "X[:, 2] = data['r'] - data['i']\n",
    "X[:, 3] = data['i'] - data['z']\n",
    "# Target vector\n",
    "y = data['redshift']"
   ]
  },
  {
   "cell_type": "markdown",
   "metadata": {},
   "source": [
    "Split the data into training and test parts in the ratio 3:1"
   ]
  },
  {
   "cell_type": "code",
   "execution_count": 21,
   "metadata": {},
   "outputs": [
    {
     "name": "stdout",
     "output_type": "stream",
     "text": [
      "Training data has 37500 samples\n",
      "Test data has 12500 samples\n"
     ]
    }
   ],
   "source": [
    "train_no=int((3*N)/4)\n",
    "X_train=X[:train_no,:]\n",
    "y_train=y[:train_no]\n",
    "X_test=X[train_no:,:]\n",
    "y_test=y[train_no:]\n",
    "print('Training data has %d samples'%(train_no))\n",
    "print('Test data has %d samples'%(N-train_no))"
   ]
  },
  {
   "cell_type": "markdown",
   "metadata": {},
   "source": [
    "Import DecisionTreeRegressor to predict the redshift using features. \n",
    "Fit the model using X_train and y_train. Predict the redshift values for the test set X_test."
   ]
  },
  {
   "cell_type": "code",
   "execution_count": 16,
   "metadata": {},
   "outputs": [],
   "source": [
    "from sklearn.tree import DecisionTreeRegressor\n",
    "model=DecisionTreeRegressor()\n",
    "model.fit(X_train,y_train)\n",
    "redshift_pred=model.predict(X_test)"
   ]
  },
  {
   "cell_type": "markdown",
   "metadata": {},
   "source": [
    "Import mean_squared_error from sklearn.metrics and measure the mse value of predictions and print it."
   ]
  },
  {
   "cell_type": "code",
   "execution_count": 22,
   "metadata": {},
   "outputs": [
    {
     "name": "stdout",
     "output_type": "stream",
     "text": [
      "Mean squared error of prediction is  0.1094158683597187\n"
     ]
    }
   ],
   "source": [
    "from sklearn.metrics import mean_squared_error\n",
    "mse=mean_squared_error(redshift_pred,y_test)\n",
    "print('Mean squared error of prediction is ',mse)"
   ]
  },
  {
   "cell_type": "markdown",
   "metadata": {},
   "source": [
    "Calculate the fraction of samples in the test set that are incorrectly predicted (absolute error greater than 1) ."
   ]
  },
  {
   "cell_type": "code",
   "execution_count": 29,
   "metadata": {},
   "outputs": [
    {
     "name": "stdout",
     "output_type": "stream",
     "text": [
      "Number of significantly incorrect predictions is  338\n",
      "2.704000% of test samples are incorrectly predicted .\n"
     ]
    }
   ],
   "source": [
    "test_len=len(y_test)\n",
    "wrong_pred=sum(abs(redshift_pred-y_test)>1)\n",
    "print('Number of significantly incorrect predictions is ',wrong_pred)\n",
    "print('%f%% of test samples are incorrectly predicted .'%(float(wrong_pred)*100/test_len))"
   ]
  }
 ],
 "metadata": {
  "kernelspec": {
   "display_name": "Python 3",
   "language": "python",
   "name": "python3"
  },
  "language_info": {
   "codemirror_mode": {
    "name": "ipython",
    "version": 3
   },
   "file_extension": ".py",
   "mimetype": "text/x-python",
   "name": "python",
   "nbconvert_exporter": "python",
   "pygments_lexer": "ipython3",
   "version": "3.6.6"
  }
 },
 "nbformat": 4,
 "nbformat_minor": 2
}
